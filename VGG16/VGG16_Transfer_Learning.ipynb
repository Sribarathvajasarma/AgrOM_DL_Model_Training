{
 "cells": [
  {
   "cell_type": "code",
   "execution_count": 1,
   "id": "b081a7a2",
   "metadata": {},
   "outputs": [
    {
     "name": "stderr",
     "output_type": "stream",
     "text": [
      "2023-09-16 14:40:01.334800: I tensorflow/tsl/cuda/cudart_stub.cc:28] Could not find cuda drivers on your machine, GPU will not be used.\n",
      "2023-09-16 14:40:01.387716: I tensorflow/tsl/cuda/cudart_stub.cc:28] Could not find cuda drivers on your machine, GPU will not be used.\n",
      "2023-09-16 14:40:01.388942: I tensorflow/core/platform/cpu_feature_guard.cc:182] This TensorFlow binary is optimized to use available CPU instructions in performance-critical operations.\n",
      "To enable the following instructions: AVX2 FMA, in other operations, rebuild TensorFlow with the appropriate compiler flags.\n",
      "2023-09-16 14:40:02.356770: W tensorflow/compiler/tf2tensorrt/utils/py_utils.cc:38] TF-TRT Warning: Could not find TensorRT\n"
     ]
    }
   ],
   "source": [
    "import tensorflow as tf\n",
    "from tensorflow.keras import models, layers\n",
    "import matplotlib.pyplot as plt"
   ]
  },
  {
   "cell_type": "code",
   "execution_count": 2,
   "id": "b2058386",
   "metadata": {},
   "outputs": [],
   "source": [
    "IMAGE_SIZE = 224\n",
    "BATCH_SIZE = 32\n",
    "CHANNELS = 3\n",
    "EPOCHS = 50"
   ]
  },
  {
   "cell_type": "code",
   "execution_count": 3,
   "id": "fccbfbf8",
   "metadata": {},
   "outputs": [
    {
     "name": "stdout",
     "output_type": "stream",
     "text": [
      "Found 11814 files belonging to 13 classes.\n"
     ]
    }
   ],
   "source": [
    "dataset = tf.keras.preprocessing.image_dataset_from_directory(\n",
    "    \"PlantVillageCombined1000-2 - Copy/Train/\",\n",
    "    shuffle = True,\n",
    "    image_size = (IMAGE_SIZE, IMAGE_SIZE),\n",
    "    batch_size = BATCH_SIZE,\n",
    ")"
   ]
  },
  {
   "cell_type": "code",
   "execution_count": 4,
   "id": "bae783a7",
   "metadata": {},
   "outputs": [
    {
     "data": {
      "text/plain": [
       "['Tomato_Bacterial_spot',\n",
       " 'Tomato_Early_blight',\n",
       " 'Tomato_Late_blight',\n",
       " 'Tomato_Leaf_Mold',\n",
       " 'Tomato_Septoria_leaf_spot',\n",
       " 'Tomato_Spider_mites_Two_spotted_spider_mite',\n",
       " 'Tomato__Black_mold',\n",
       " 'Tomato__Gray_spot',\n",
       " 'Tomato__Target_Spot',\n",
       " 'Tomato__Tomato_YellowLeaf__Curl_Virus',\n",
       " 'Tomato__Tomato_mosaic_virus',\n",
       " 'Tomato__powdery_mildew',\n",
       " 'Tomato_healthy']"
      ]
     },
     "execution_count": 4,
     "metadata": {},
     "output_type": "execute_result"
    }
   ],
   "source": [
    "class_names = dataset.class_names\n",
    "class_names"
   ]
  },
  {
   "cell_type": "code",
   "execution_count": 5,
   "id": "bc05d74c",
   "metadata": {},
   "outputs": [
    {
     "data": {
      "text/plain": [
       "370"
      ]
     },
     "execution_count": 5,
     "metadata": {},
     "output_type": "execute_result"
    }
   ],
   "source": [
    "len(dataset)"
   ]
  },
  {
   "cell_type": "code",
   "execution_count": 6,
   "id": "c5121171",
   "metadata": {},
   "outputs": [],
   "source": [
    "def get_dataset_partitions_tf(ds, train_split=0.9, val_split=0.1, test_split=0.0, shuffle=True, shuffle_size=10000):\n",
    "    assert (train_split + test_split + val_split) == 1\n",
    "\n",
    "    ds_size = len(ds)\n",
    "\n",
    "    if shuffle:\n",
    "        ds = ds.shuffle(shuffle_size, seed=12)\n",
    "\n",
    "    train_size = int(train_split * ds_size)\n",
    "    val_size = int(val_split * ds_size)\n",
    "\n",
    "    train_ds = ds.take(train_size)\n",
    "    val_ds = ds.skip(train_size).take(val_size)\n",
    "    test_ds = ds.skip(train_size).skip(val_size)\n",
    "\n",
    "    return train_ds, val_ds, test_ds"
   ]
  },
  {
   "cell_type": "code",
   "execution_count": 7,
   "id": "93345f7a",
   "metadata": {},
   "outputs": [],
   "source": [
    "train_ds, val_ds, test_ds = get_dataset_partitions_tf(dataset)"
   ]
  },
  {
   "cell_type": "code",
   "execution_count": 8,
   "id": "c0d2d7c7",
   "metadata": {},
   "outputs": [],
   "source": [
    "train_ds = train_ds.cache().shuffle(1000).prefetch(buffer_size=tf.data.AUTOTUNE)\n",
    "val_ds = val_ds.cache().shuffle(1000).prefetch(buffer_size=tf.data.AUTOTUNE)\n",
    "test_ds = test_ds.cache().shuffle(1000).prefetch(buffer_size=tf.data.AUTOTUNE)"
   ]
  },
  {
   "cell_type": "code",
   "execution_count": 9,
   "id": "6c6fbbd1",
   "metadata": {},
   "outputs": [],
   "source": [
    "resize_and_rescale = tf.keras.Sequential([\n",
    "  layers.experimental.preprocessing.Resizing(IMAGE_SIZE, IMAGE_SIZE),\n",
    "  layers.experimental.preprocessing.Rescaling(1./255),\n",
    "])"
   ]
  },
  {
   "cell_type": "code",
   "execution_count": 10,
   "id": "99488c8a",
   "metadata": {},
   "outputs": [],
   "source": [
    "data_augmentation = tf.keras.Sequential([\n",
    "  layers.experimental.preprocessing.RandomFlip(\"horizontal_and_vertical\"),\n",
    "  layers.experimental.preprocessing.RandomRotation(0.2),\n",
    "])"
   ]
  },
  {
   "cell_type": "code",
   "execution_count": 11,
   "id": "e56a2839",
   "metadata": {},
   "outputs": [],
   "source": [
    "train_ds = train_ds.map(\n",
    "    lambda x, y: (data_augmentation(x, training=True), y)\n",
    ").prefetch(buffer_size=tf.data.AUTOTUNE)"
   ]
  },
  {
   "cell_type": "code",
   "execution_count": 12,
   "id": "7da9b958",
   "metadata": {},
   "outputs": [],
   "source": [
    "def preprocess_data(image, label):\n",
    "    image = resize_and_rescale(image)\n",
    "    image = data_augmentation(image)\n",
    "    label = tf.one_hot(label, depth=13)  # Convert label to one-hot encoded format\n",
    "    return image, label\n",
    "\n",
    "train_ds = train_ds.map(preprocess_data)\n",
    "val_ds = val_ds.map(preprocess_data)\n",
    "test_ds = test_ds.map(preprocess_data)\n"
   ]
  },
  {
   "cell_type": "code",
   "execution_count": 13,
   "id": "5e832001",
   "metadata": {},
   "outputs": [],
   "source": [
    "pre_trained_model = tf.keras.applications.VGG16(input_shape=(224, 224, 3), include_top=False, weights=\"imagenet\")"
   ]
  },
  {
   "cell_type": "code",
   "execution_count": 14,
   "id": "b3b6e69a",
   "metadata": {},
   "outputs": [],
   "source": [
    "len(pre_trained_model.layers)\n",
    "\n",
    "fine_tune_at = 10\n",
    "\n",
    "# Freeze all the layers before the `fine_tune_at` layer\n",
    "for layer in pre_trained_model.layers[:fine_tune_at]:\n",
    "  layer.trainable = False"
   ]
  },
  {
   "cell_type": "code",
   "execution_count": 15,
   "id": "a08322ab",
   "metadata": {},
   "outputs": [],
   "source": [
    "import tensorflow as tf\n",
    "\n",
    "last_layer = pre_trained_model.get_layer('block5_pool')\n",
    "last_output = last_layer.output\n",
    "x = tf.keras.layers.GlobalMaxPooling2D()(last_output)\n",
    "x = tf.keras.layers.Dense(512, activation='relu')(x)\n",
    "x = tf.keras.layers.Dropout(0.5)(x)\n",
    "x = tf.keras.layers.Reshape((1, 1, 512))(x)\n",
    "x = tf.keras.layers.Conv2D(32, kernel_size=(3, 3), activation='relu', padding='same')(x)\n",
    "x = tf.keras.layers.BatchNormalization()(x)\n",
    "x = tf.keras.layers.Flatten()(x)\n",
    "x = tf.keras.layers.Dense(13, activation='softmax')(x)\n",
    "\n",
    "\n",
    "\n"
   ]
  },
  {
   "cell_type": "code",
   "execution_count": 16,
   "id": "8e4b9370",
   "metadata": {},
   "outputs": [],
   "source": [
    "model = tf.keras.Model(pre_trained_model.input, x)\n"
   ]
  },
  {
   "cell_type": "code",
   "execution_count": 17,
   "id": "952dedbb",
   "metadata": {},
   "outputs": [],
   "source": [
    "model.compile(optimizer='adam', loss=tf.keras.losses.categorical_crossentropy, metrics=['acc'])"
   ]
  },
  {
   "cell_type": "code",
   "execution_count": 18,
   "id": "a3c70782",
   "metadata": {},
   "outputs": [
    {
     "name": "stdout",
     "output_type": "stream",
     "text": [
      "Epoch 1/20\n",
      "333/333 [==============================] - 800s 2s/step - loss: 2.3972 - acc: 0.1442 - val_loss: 2.0774 - val_acc: 0.2021\n",
      "Epoch 2/20\n",
      "333/333 [==============================] - 794s 2s/step - loss: 1.9179 - acc: 0.2770 - val_loss: 1.6363 - val_acc: 0.4136\n",
      "Epoch 3/20\n",
      "333/333 [==============================] - 795s 2s/step - loss: 1.4571 - acc: 0.4698 - val_loss: 1.3493 - val_acc: 0.4637\n",
      "Epoch 4/20\n",
      "333/333 [==============================] - 796s 2s/step - loss: 1.1121 - acc: 0.5941 - val_loss: 0.9572 - val_acc: 0.6598\n",
      "Epoch 5/20\n",
      "333/333 [==============================] - 831s 2s/step - loss: 0.8962 - acc: 0.6788 - val_loss: 1.2088 - val_acc: 0.5889\n",
      "Epoch 6/20\n",
      "333/333 [==============================] - 795s 2s/step - loss: 0.7378 - acc: 0.7378 - val_loss: 0.5527 - val_acc: 0.7979\n",
      "Epoch 7/20\n",
      "333/333 [==============================] - 793s 2s/step - loss: 0.6276 - acc: 0.7869 - val_loss: 0.7278 - val_acc: 0.7427\n",
      "Epoch 8/20\n",
      "333/333 [==============================] - 794s 2s/step - loss: 0.5701 - acc: 0.8055 - val_loss: 0.5519 - val_acc: 0.8014\n",
      "Epoch 9/20\n",
      "333/333 [==============================] - 796s 2s/step - loss: 0.4874 - acc: 0.8309 - val_loss: 0.6947 - val_acc: 0.7720\n",
      "Epoch 10/20\n",
      "333/333 [==============================] - 798s 2s/step - loss: 0.4353 - acc: 0.8516 - val_loss: 0.4118 - val_acc: 0.8644\n",
      "Epoch 11/20\n",
      "333/333 [==============================] - 798s 2s/step - loss: 0.3969 - acc: 0.8696 - val_loss: 0.6677 - val_acc: 0.7832\n",
      "Epoch 12/20\n",
      "333/333 [==============================] - 795s 2s/step - loss: 0.3520 - acc: 0.8827 - val_loss: 0.2398 - val_acc: 0.9136\n",
      "Epoch 13/20\n",
      "333/333 [==============================] - 795s 2s/step - loss: 0.3100 - acc: 0.8961 - val_loss: 0.2816 - val_acc: 0.8972\n",
      "Epoch 14/20\n",
      "333/333 [==============================] - 796s 2s/step - loss: 0.3104 - acc: 0.8946 - val_loss: 0.4504 - val_acc: 0.8627\n",
      "Epoch 15/20\n",
      "333/333 [==============================] - 794s 2s/step - loss: 0.2619 - acc: 0.9098 - val_loss: 0.5617 - val_acc: 0.8048\n",
      "Epoch 16/20\n",
      "333/333 [==============================] - 795s 2s/step - loss: 0.2562 - acc: 0.9119 - val_loss: 0.4566 - val_acc: 0.8670\n",
      "Epoch 17/20\n",
      "333/333 [==============================] - 797s 2s/step - loss: 0.2418 - acc: 0.9179 - val_loss: 0.3427 - val_acc: 0.8921\n",
      "Epoch 18/20\n",
      "333/333 [==============================] - 796s 2s/step - loss: 0.2131 - acc: 0.9285 - val_loss: 0.2073 - val_acc: 0.9309\n",
      "Epoch 19/20\n",
      "333/333 [==============================] - 795s 2s/step - loss: 0.2113 - acc: 0.9290 - val_loss: 0.2310 - val_acc: 0.9240\n",
      "Epoch 20/20\n",
      "333/333 [==============================] - 795s 2s/step - loss: 0.1991 - acc: 0.9311 - val_loss: 0.2028 - val_acc: 0.9240\n"
     ]
    }
   ],
   "source": [
    "vgg_classifier = model.fit(train_ds,\n",
    "epochs = 20,\n",
    "validation_data=val_ds,\n",
    "batch_size = BATCH_SIZE,\n",
    "verbose = 1)"
   ]
  },
  {
   "cell_type": "code",
   "execution_count": 19,
   "id": "8d75ad87",
   "metadata": {},
   "outputs": [
    {
     "name": "stdout",
     "output_type": "stream",
     "text": [
      "INFO:tensorflow:Assets written to: PlantVillageCombined1000-2 - Copy/VGG16_fine_tuned_10/assets\n"
     ]
    },
    {
     "name": "stderr",
     "output_type": "stream",
     "text": [
      "INFO:tensorflow:Assets written to: PlantVillageCombined1000-2 - Copy/VGG16_fine_tuned_10/assets\n"
     ]
    }
   ],
   "source": [
    "model.save(\"PlantVillageCombined1000-2 - Copy/VGG16_fine_tuned_10/\")"
   ]
  },
  {
   "cell_type": "code",
   "execution_count": 20,
   "id": "0fa0719c",
   "metadata": {},
   "outputs": [
    {
     "name": "stdout",
     "output_type": "stream",
     "text": [
      "Found 1404 files belonging to 13 classes.\n"
     ]
    }
   ],
   "source": [
    "test_ds = tf.keras.preprocessing.image_dataset_from_directory(\n",
    "    \"PlantVillageCombined1000-2 - Copy/Test/\",\n",
    "    shuffle = True,\n",
    "    image_size = (IMAGE_SIZE, IMAGE_SIZE),\n",
    "    batch_size = BATCH_SIZE,\n",
    ")"
   ]
  },
  {
   "cell_type": "code",
   "execution_count": 21,
   "id": "7bd4bac7",
   "metadata": {},
   "outputs": [],
   "source": [
    "test_ds = test_ds.map(preprocess_data)"
   ]
  },
  {
   "cell_type": "code",
   "execution_count": 22,
   "id": "eb30c0e2",
   "metadata": {},
   "outputs": [],
   "source": [
    "# model.save(\"C:\\\\Users\\\\USER\\\\Desktop\\\\model\")"
   ]
  },
  {
   "cell_type": "code",
   "execution_count": 23,
   "id": "83dd7c23",
   "metadata": {},
   "outputs": [
    {
     "name": "stdout",
     "output_type": "stream",
     "text": [
      "44/44 [==============================] - 54s 1s/step - loss: 0.2789 - acc: 0.9046\n"
     ]
    }
   ],
   "source": [
    "scores = model.evaluate(test_ds)"
   ]
  },
  {
   "cell_type": "code",
   "execution_count": 24,
   "id": "3030fa1b",
   "metadata": {},
   "outputs": [
    {
     "data": {
      "text/plain": [
       "{'loss': [2.3971643447875977,\n",
       "  1.9178829193115234,\n",
       "  1.4570947885513306,\n",
       "  1.112058162689209,\n",
       "  0.8962197303771973,\n",
       "  0.7378003597259521,\n",
       "  0.627588152885437,\n",
       "  0.5701292157173157,\n",
       "  0.48740991950035095,\n",
       "  0.43531641364097595,\n",
       "  0.3969159722328186,\n",
       "  0.3519574999809265,\n",
       "  0.31003043055534363,\n",
       "  0.3104398250579834,\n",
       "  0.26187020540237427,\n",
       "  0.2561715245246887,\n",
       "  0.24184204638004303,\n",
       "  0.21310870349407196,\n",
       "  0.2113470435142517,\n",
       "  0.19906872510910034],\n",
       " 'acc': [0.1442144811153412,\n",
       "  0.27695202827453613,\n",
       "  0.4698024392127991,\n",
       "  0.5940733551979065,\n",
       "  0.6788334846496582,\n",
       "  0.7378175258636475,\n",
       "  0.7869238257408142,\n",
       "  0.805456280708313,\n",
       "  0.8308560848236084,\n",
       "  0.8515521883964539,\n",
       "  0.86961430311203,\n",
       "  0.8826904892921448,\n",
       "  0.8961430191993713,\n",
       "  0.8946378231048584,\n",
       "  0.9097836017608643,\n",
       "  0.9119473099708557,\n",
       "  0.9178739190101624,\n",
       "  0.928504228591919,\n",
       "  0.9289746284484863,\n",
       "  0.931138277053833],\n",
       " 'val_loss': [2.0773861408233643,\n",
       "  1.6362806558609009,\n",
       "  1.3493331670761108,\n",
       "  0.9571858644485474,\n",
       "  1.2087522745132446,\n",
       "  0.5526649355888367,\n",
       "  0.7277793884277344,\n",
       "  0.5519254803657532,\n",
       "  0.6946824193000793,\n",
       "  0.41176992654800415,\n",
       "  0.6676927804946899,\n",
       "  0.23976683616638184,\n",
       "  0.28163784742355347,\n",
       "  0.4503551125526428,\n",
       "  0.5616757869720459,\n",
       "  0.4566164016723633,\n",
       "  0.3427225947380066,\n",
       "  0.20730307698249817,\n",
       "  0.23096005618572235,\n",
       "  0.2027900069952011],\n",
       " 'val_acc': [0.20207254588603973,\n",
       "  0.4136442244052887,\n",
       "  0.4637305736541748,\n",
       "  0.6597582101821899,\n",
       "  0.5889464616775513,\n",
       "  0.7979274392127991,\n",
       "  0.7426597476005554,\n",
       "  0.8013817071914673,\n",
       "  0.772020697593689,\n",
       "  0.8644214272499084,\n",
       "  0.7832469940185547,\n",
       "  0.9136441946029663,\n",
       "  0.8972365856170654,\n",
       "  0.8626943230628967,\n",
       "  0.8048359155654907,\n",
       "  0.867012083530426,\n",
       "  0.8920552730560303,\n",
       "  0.930915355682373,\n",
       "  0.9240068793296814,\n",
       "  0.9240068793296814]}"
      ]
     },
     "execution_count": 24,
     "metadata": {},
     "output_type": "execute_result"
    }
   ],
   "source": [
    "vgg_classifier.history"
   ]
  },
  {
   "cell_type": "code",
   "execution_count": 25,
   "id": "3a122ef7",
   "metadata": {},
   "outputs": [
    {
     "data": {
      "image/png": "[encoded data removed]",
      "text/plain": [
       "<Figure size 800x800 with 2 Axes>"
      ]
     },
     "metadata": {},
     "output_type": "display_data"
    }
   ],
   "source": [
    "acc = vgg_classifier.history['acc']\n",
    "val_acc = vgg_classifier.history['val_acc']\n",
    "\n",
    "loss = vgg_classifier.history['loss']\n",
    "val_loss = vgg_classifier.history['val_loss']\n",
    "\n",
    "plt.figure(figsize=(8, 8))\n",
    "plt.subplot(2, 1, 1)\n",
    "plt.plot(acc, label='Training Accuracy')\n",
    "plt.plot(val_acc, label='Validation Accuracy')\n",
    "plt.legend(loc='lower right')\n",
    "plt.ylabel('Accuracy')\n",
    "plt.ylim([min(plt.ylim()),1])\n",
    "plt.title('Training and Validation Accuracy')\n",
    "\n",
    "plt.subplot(2, 1, 2)\n",
    "plt.plot(loss, label='Training Loss')\n",
    "plt.plot(val_loss, label='Validation Loss')\n",
    "plt.legend(loc='upper right')\n",
    "plt.ylabel('Cross Entropy')\n",
    "plt.ylim([0,3.0])\n",
    "plt.title('Training and Validation Loss')\n",
    "plt.xlabel('epoch')\n",
    "plt.show()"
   ]
  },
  {
   "cell_type": "code",
   "execution_count": null,
   "id": "6778e6a8",
   "metadata": {},
   "outputs": [],
   "source": []
  },
  {
   "cell_type": "code",
   "execution_count": null,
   "id": "886cc258",
   "metadata": {},
   "outputs": [],
   "source": []
  },
  {
   "cell_type": "code",
   "execution_count": null,
   "id": "16b31a7a",
   "metadata": {},
   "outputs": [],
   "source": []
  }
 ],
 "metadata": {
  "kernelspec": {
   "display_name": "Python 3 (ipykernel)",
   "language": "python",
   "name": "python3"
  },
  "language_info": {
   "codemirror_mode": {
    "name": "ipython",
    "version": 3
   },
   "file_extension": ".py",
   "mimetype": "text/x-python",
   "name": "python",
   "nbconvert_exporter": "python",
   "pygments_lexer": "ipython3",
   "version": "3.11.4"
  }
 },
 "nbformat": 4,
 "nbformat_minor": 5
}
